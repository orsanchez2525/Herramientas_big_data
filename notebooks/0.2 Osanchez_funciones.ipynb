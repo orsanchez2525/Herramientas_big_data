{
 "cells": [
  {
   "cell_type": "code",
   "execution_count": 5,
   "metadata": {},
   "outputs": [
    {
     "name": "stdout",
     "output_type": "stream",
     "text": [
      "x: 3\n",
      "Resultado: 8\n"
     ]
    },
    {
     "data": {
      "text/plain": [
       "8"
      ]
     },
     "execution_count": 5,
     "metadata": {},
     "output_type": "execute_result"
    }
   ],
   "source": [
    "# una funcion x f(x)=x+5-->f(x+3)=3+5\n",
    "from unittest import result\n",
    "\n",
    "\n",
    "def f(x):#f puede tomar cualquier valor \n",
    "    resultado = x + 5\n",
    "    print ('x:',x)\n",
    "    print ('Resultado:',resultado)\n",
    "    return resultado\n",
    "\n",
    "f(3)#Ya se utiliza la funcion"
   ]
  },
  {
   "cell_type": "markdown",
   "metadata": {},
   "source": [
    "Pseudo-codigo:\n"
   ]
  },
  {
   "cell_type": "code",
   "execution_count": null,
   "metadata": {},
   "outputs": [],
   "source": [
    "#obtener el valor de la suma de los numeros de una lista\n",
    "#El valor minimo y maximo\n",
    "# La media y desviacion estandar\n",
    " #Calcular_valores(lista_numeros)\n",
    " #suma                =calcular_suma(lista_numeros)\n",
    " #media,desv_estandar =calcular__valores_centrales(lista_numeros)\n",
    " #min_val,max_val     =calcular_extremos(lista_numeros)\n",
    "#return suma,media,desv_estandar,min_val,max_val\n"
   ]
  },
  {
   "cell_type": "code",
   "execution_count": 72,
   "metadata": {},
   "outputs": [],
   "source": [
    "import numpy as np\n",
    "#funcion realiza la suma\n",
    "def calcular_suma(lista_numeros):\n",
    "    resultado  =np.sum(lista_numeros)\n",
    "    return resultado\n",
    "\n",
    "\n",
    "\n",
    "#Valores_centrales\n",
    "def calcular_valores_centrales(lista_numeros):\n",
    "    media    =np.mean(lista_numeros)\n",
    "    desv_std =np.std(lista_numeros)\n",
    "    return   media,desv_std\n",
    "\n",
    "def calcular_valores_extremos(lista_numeros):\n",
    "    maximo  =np.max(lista_numeros)\n",
    "    minimo  =np.min(lista_numeros)\n",
    "    return  maximo,minimo\n",
    "\n",
    "\n",
    "\n",
    "def  calcular_valores(lista_numeros):\n",
    "    suma           =calcular_suma(lista_numeros)\n",
    "    media,desv_std =calcular_valores_centrales(lista_numeros)\n",
    "    maximo,minimo  =calcular_valores_extremos(lista_numeros)\n",
    "    return suma,media,desv_std,maximo,minimo"
   ]
  },
  {
   "cell_type": "code",
   "execution_count": 73,
   "metadata": {},
   "outputs": [
    {
     "data": {
      "text/plain": [
       "(55, 5.5, 2.8722813232690143, 10, 1)"
      ]
     },
     "execution_count": 73,
     "metadata": {},
     "output_type": "execute_result"
    }
   ],
   "source": [
    "lista_numeros = [1, 2, 3, 4, 5, 6, 7, 8, 9, 10]\n",
    "\n",
    "\n",
    "calcular_valores(lista_numeros)\n"
   ]
  }
 ],
 "metadata": {
  "kernelspec": {
   "display_name": "Python 3.9.12 ('base')",
   "language": "python",
   "name": "python3"
  },
  "language_info": {
   "codemirror_mode": {
    "name": "ipython",
    "version": 3
   },
   "file_extension": ".py",
   "mimetype": "text/x-python",
   "name": "python",
   "nbconvert_exporter": "python",
   "pygments_lexer": "ipython3",
   "version": "3.9.12"
  },
  "orig_nbformat": 4,
  "vscode": {
   "interpreter": {
    "hash": "e5a3a39f6d4c989f0ee39835f80fe596818c9d393074cb6f1502bf4351e7f61b"
   }
  }
 },
 "nbformat": 4,
 "nbformat_minor": 2
}
